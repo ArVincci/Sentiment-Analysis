{
  "nbformat": 4,
  "nbformat_minor": 0,
  "metadata": {
    "colab": {
      "provenance": []
    },
    "kernelspec": {
      "name": "python3",
      "display_name": "Python 3"
    },
    "language_info": {
      "name": "python"
    }
  },
  "cells": [
    {
      "cell_type": "markdown",
      "source": [
        "# Twitter Sentiment Analysis Project\n",
        "\n",
        "Group Members: Arvic Valdivieso, Halimah Khan\n"
      ],
      "metadata": {
        "id": "ExawH2Tuafjl"
      }
    },
    {
      "cell_type": "markdown",
      "source": [
        "COMP 479-001 Machine Learning\n",
        "\n",
        "Twitter sentiment analysis using Logistic Regression"
      ],
      "metadata": {
        "id": "xUnKPUaeGxSa"
      }
    },
    {
      "cell_type": "markdown",
      "source": [
        "# Preprocesing the data"
      ],
      "metadata": {
        "id": "ErWLJ85lsPIq"
      }
    },
    {
      "cell_type": "code",
      "execution_count": 2,
      "metadata": {
        "id": "aHZrQ0zGZ8Jw",
        "colab": {
          "base_uri": "https://localhost:8080/"
        },
        "outputId": "2fe9869c-a85f-4550-dff9-4c1c6092b6b7"
      },
      "outputs": [
        {
          "output_type": "stream",
          "name": "stderr",
          "text": [
            "[nltk_data] Downloading package twitter_samples to /root/nltk_data...\n",
            "[nltk_data]   Unzipping corpora/twitter_samples.zip.\n"
          ]
        },
        {
          "output_type": "execute_result",
          "data": {
            "text/plain": [
              "True"
            ]
          },
          "metadata": {},
          "execution_count": 2
        }
      ],
      "source": [
        "# Import the necessary libraries\n",
        "import nltk                                  # Python library for NLP\n",
        "from nltk.corpus import twitter_samples      # sample Twitter dataset from NLTK\n",
        "import matplotlib.pyplot as plt\n",
        "import numpy as np\n",
        "import pandas as pd\n",
        "\n",
        "# Download the twitter samples\n",
        "nltk.download('twitter_samples')"
      ]
    },
    {
      "cell_type": "code",
      "source": [
        "# download the stopwords for the process_tweet function\n",
        "nltk.download('stopwords')\n",
        "\n",
        "import re                                  # library for regular expression operations\n",
        "import string                              # for string operations\n",
        "from nltk.corpus import stopwords          # module for stop words that come with NLTK\n",
        "from nltk.stem import PorterStemmer        # module for stemming\n",
        "from nltk.tokenize import TweetTokenizer   # module for tokenizing strings"
      ],
      "metadata": {
        "id": "I6MlFCxjjq8R",
        "colab": {
          "base_uri": "https://localhost:8080/"
        },
        "outputId": "5b824613-1632-4e43-acaa-36621635e2eb"
      },
      "execution_count": 4,
      "outputs": [
        {
          "output_type": "stream",
          "name": "stderr",
          "text": [
            "[nltk_data] Downloading package stopwords to /root/nltk_data...\n",
            "[nltk_data]   Package stopwords is already up-to-date!\n"
          ]
        }
      ]
    },
    {
      "cell_type": "markdown",
      "source": [
        "Preparing the data by collecting the negative and positive samples"
      ],
      "metadata": {
        "id": "5ldD7Qc5v9IX"
      }
    },
    {
      "cell_type": "code",
      "source": [
        "# select the set of positive and negative tweets\n",
        "all_positive_tweets = twitter_samples.strings('positive_tweets.json')\n",
        "all_negative_tweets = twitter_samples.strings('negative_tweets.json')\n",
        "\n",
        "# concatenate the lists, 1st part is the positive tweets followed by the negative\n",
        "tweets = all_positive_tweets + all_negative_tweets\n",
        "\n",
        "# make a numpy array representing labels of the tweets\n",
        "labels = np.append(np.ones((len(all_positive_tweets))), np.zeros((len(all_negative_tweets))))\n"
      ],
      "metadata": {
        "id": "WYys_vDov7eT"
      },
      "execution_count": 5,
      "outputs": []
    },
    {
      "cell_type": "markdown",
      "source": [
        "Split the data into Traning and Testing set (we aimed for a 70/30 split between training and testing partition)"
      ],
      "metadata": {
        "id": "IgX5uyc_Eox5"
      }
    },
    {
      "cell_type": "code",
      "source": [
        "# split the data into two pieces, one for training and one for testing (validation set)\n",
        "test_pos = all_positive_tweets[3500:] #in here are 1500\n",
        "train_pos = all_positive_tweets[:3500]\n",
        "\n",
        "test_neg = all_negative_tweets[3500:] #in here are 1500\n",
        "train_neg = all_negative_tweets[:3500]\n",
        "\n",
        "train_x = train_pos + train_neg\n",
        "test_x = test_pos + test_neg"
      ],
      "metadata": {
        "id": "CHa4WfSWEy5i"
      },
      "execution_count": 22,
      "outputs": []
    },
    {
      "cell_type": "markdown",
      "source": [
        "We create an array of positive and negative labels"
      ],
      "metadata": {
        "id": "kPeGKd_MG2SY"
      }
    },
    {
      "cell_type": "code",
      "source": [
        "# combine positive and negative labels\n",
        "train_y = np.append(np.ones((len(train_pos), 1)), np.zeros((len(train_neg), 1)), axis=0)\n",
        "test_y = np.append(np.ones((len(test_pos), 1)), np.zeros((len(test_neg), 1)), axis=0)"
      ],
      "metadata": {
        "id": "_92WgUu5GvTK"
      },
      "execution_count": 7,
      "outputs": []
    },
    {
      "cell_type": "markdown",
      "source": [
        "Print the shape train and test sets"
      ],
      "metadata": {
        "id": "Girc5g59HA0V"
      }
    },
    {
      "cell_type": "code",
      "source": [
        "print(\"train_y.shape = \" + str(train_y.shape))\n",
        "print(\"test_y.shape = \" + str(test_y.shape))"
      ],
      "metadata": {
        "colab": {
          "base_uri": "https://localhost:8080/"
        },
        "id": "xV-FDmrbG90R",
        "outputId": "5372ec1d-83f9-49c4-eac2-d8981a49eb0a"
      },
      "execution_count": 8,
      "outputs": [
        {
          "output_type": "stream",
          "name": "stdout",
          "text": [
            "train_y.shape = (7000, 1)\n",
            "test_y.shape = (3000, 1)\n"
          ]
        }
      ]
    },
    {
      "cell_type": "markdown",
      "source": [
        "# Preprocessing the text"
      ],
      "metadata": {
        "id": "Fvr7SqHbIuWT"
      }
    },
    {
      "cell_type": "markdown",
      "source": [
        "Cleaning the tweets and stemming the words"
      ],
      "metadata": {
        "id": "lp5HIYvLKBWn"
      }
    },
    {
      "cell_type": "code",
      "source": [
        "def process_tweet(tweet):\n",
        "\n",
        "    stemmer = PorterStemmer()\n",
        "    stopwords_english = stopwords.words('english')\n",
        "\n",
        "    # remove stock market tickers like $GE\n",
        "    tweet = re.sub(r'\\$\\w*', '', tweet)\n",
        "\n",
        "    # remove old style retweet text \"RT\"\n",
        "    tweet = re.sub(r'^RT[\\s]+', '', tweet)\n",
        "\n",
        "    # remove hyperlinks\n",
        "    tweet = re.sub(r'https?:\\/\\/.*[\\r\\n]*', '', tweet)\n",
        "\n",
        "\n",
        "    # only removing the hash # sign from the word\n",
        "    tweet = re.sub(r'#', '', tweet)\n",
        "\n",
        "    # tokenize tweets using TweetTokenizer\n",
        "    tokenizer = TweetTokenizer(preserve_case=False, strip_handles=True, reduce_len=True)\n",
        "    tweet_tokens = tokenizer.tokenize(tweet)\n",
        "\n",
        "    tweets_clean = []\n",
        "    for word in tweet_tokens:\n",
        "      # Check if the word is not a stopword and not a punctuation\n",
        "        if (word not in stopwords_english and word not in string.punctuation):\n",
        "\n",
        "            stem_word = stemmer.stem(word)  # stemming word\n",
        "            tweets_clean.append(stem_word)\n",
        "\n",
        "    return tweets_clean"
      ],
      "metadata": {
        "id": "99HQF0eYI214"
      },
      "execution_count": 9,
      "outputs": []
    },
    {
      "cell_type": "code",
      "source": [
        "from collections import defaultdict\n",
        "\n",
        "def build_freqs(tweets, ys):\n",
        "    # Convert ys to a list\n",
        "    yslist = np.squeeze(ys).tolist()\n",
        "\n",
        "    # Initialize a defaultdict to store frequencies\n",
        "    freqs = defaultdict(int)\n",
        "\n",
        "    # Iterate through each tweet and its corresponding label\n",
        "    for y, tweet in zip(yslist, tweets):\n",
        "        # Process the tweet to get tokens\n",
        "        tokens = process_tweet(tweet)\n",
        "        # Update the frequencies for each token and sentiment pair\n",
        "        freqs.update({(word, y): freqs[(word, y)] + 1 for word in tokens})\n",
        "\n",
        "    return freqs"
      ],
      "metadata": {
        "id": "HB5naM1ZI642"
      },
      "execution_count": 10,
      "outputs": []
    },
    {
      "cell_type": "markdown",
      "source": [
        "# DANIEL here"
      ],
      "metadata": {
        "id": "olHz0u8acd5L"
      }
    },
    {
      "cell_type": "code",
      "source": [
        "# DANIEL\n",
        "# I added Word2Vec here (https://en.wikipedia.org/wiki/Word2vec)\n",
        "from gensim.models import Word2Vec\n",
        "\n",
        "# Creates a word2vec model from the given tweets.\n",
        "# The model is saved in the \"tweets.model\" file.\n",
        "def create_word2vec_model(tweets):\n",
        "  clean_tweets = [process_tweet(tweet) for tweet in tweets]\n",
        "  model = Word2Vec(clean_tweets)\n",
        "  model.save('tweets.model')\n",
        "  return model\n",
        "\n",
        "# Converts a given tweet to a 100-value feature vector,\n",
        "# using the given word2vec model.\n",
        "def tweet_to_vector(tweet, model):\n",
        "  vectors = [model.wv[word] for word in process_tweet(tweet) if word in model.wv.key_to_index]\n",
        "  if vectors:\n",
        "    return np.mean(vectors, axis=0)\n",
        "  else:\n",
        "    return np.zeros(model.vector_size)"
      ],
      "metadata": {
        "id": "_C97C-ITTvxo"
      },
      "execution_count": 11,
      "outputs": []
    },
    {
      "cell_type": "code",
      "source": [
        "# DANIEL\n",
        "# feature vector tweets' conversion\n",
        "word2vec_model = create_word2vec_model(train_x)\n",
        "\n",
        "train_vectors = np.array([tweet_to_vector(tweet, word2vec_model) for tweet in train_x])\n",
        "test_vectors = np.array([tweet_to_vector(tweet, word2vec_model) for tweet in test_x])\n",
        "\n",
        "# data standardization\n",
        "from sklearn.preprocessing import StandardScaler\n",
        "scaler = StandardScaler()\n",
        "\n",
        "# train data\n",
        "x_train_norm = scaler.fit_transform(train_vectors)\n",
        "print(train_vectors.shape, train_y.shape)\n",
        "\n",
        "#test data\n",
        "x_test_norm = scaler.transform(test_vectors)\n",
        "print(x_test_norm.shape, test_y.shape)"
      ],
      "metadata": {
        "colab": {
          "base_uri": "https://localhost:8080/"
        },
        "id": "TWxHqvKeU0nw",
        "outputId": "1fd0db5b-5d9c-4873-ae8a-bd106f010be8"
      },
      "execution_count": 12,
      "outputs": [
        {
          "output_type": "stream",
          "name": "stdout",
          "text": [
            "(7000, 100) (7000, 1)\n",
            "(3000, 100) (3000, 1)\n"
          ]
        }
      ]
    },
    {
      "cell_type": "code",
      "source": [
        "# DANIEL\n",
        "# Simple logistic regressor\n",
        "from sklearn.linear_model import LogisticRegression\n",
        "classifier = LogisticRegression(max_iter=100000)\n",
        "classifier.fit(x_train_norm, train_y.ravel())\n",
        "\n",
        "y_predict = classifier.predict(x_test_norm)\n",
        "\n",
        "from sklearn.metrics import balanced_accuracy_score\n",
        "bacc = balanced_accuracy_score(test_y, y_predict)\n",
        "print('Balance Accuracy:', bacc)\n",
        "\n",
        "from sklearn.metrics import confusion_matrix, ConfusionMatrixDisplay\n",
        "cm = confusion_matrix(test_y, y_predict, labels=classifier.classes_)\n",
        "disp = ConfusionMatrixDisplay(confusion_matrix=cm, display_labels=classifier.classes_)\n",
        "disp.plot()\n",
        "plt.show()"
      ],
      "metadata": {
        "colab": {
          "base_uri": "https://localhost:8080/",
          "height": 466
        },
        "id": "B2elPevEZPl6",
        "outputId": "0beb3f9a-cad5-45a1-d201-5432db443215"
      },
      "execution_count": 13,
      "outputs": [
        {
          "output_type": "stream",
          "name": "stdout",
          "text": [
            "Balance Accuracy: 0.98\n"
          ]
        },
        {
          "output_type": "display_data",
          "data": {
            "text/plain": [
              "<Figure size 640x480 with 2 Axes>"
            ],
            "image/png": "[encoded data removed]"
          },
          "metadata": {}
        }
      ]
    },
    {
      "cell_type": "code",
      "source": [
        "# DANIEL\n",
        "# Possible next steps:\n",
        "# 1. Understand and briefly explain word2vec (https://en.wikipedia.org/wiki/Word2vec)\n",
        "# 2. Use PCA to reduce dimensionality (from 100 to <your choice here>). Look at notebook 2. DONE\n",
        "# 3. Use other classifiers (KNN?, MLP?, please refer to notebooks 5 and 6) KNN IS DONE\n",
        "# 4. Show the edge cases (i.e., tweets that were misclassified). Do they have something interesting?"
      ],
      "metadata": {
        "id": "F8Be9RaWaTgL"
      },
      "execution_count": 14,
      "outputs": []
    },
    {
      "cell_type": "markdown",
      "source": [
        "# Reducing dimensionality PCA"
      ],
      "metadata": {
        "id": "RWNfwhdUjD3J"
      }
    },
    {
      "cell_type": "code",
      "source": [
        "from sklearn.decomposition import PCA\n",
        "\n",
        "# Apply PCA for dimensionality reduction\n",
        "pca = PCA(n_components=50)  # Reduce dimensionality to 50\n",
        "x_train_pca = pca.fit_transform(x_train_norm)\n",
        "x_test_pca = pca.transform(x_test_norm)\n"
      ],
      "metadata": {
        "id": "DiOHyrVEjQFT"
      },
      "execution_count": 15,
      "outputs": []
    },
    {
      "cell_type": "markdown",
      "source": [
        "# Applying KNN"
      ],
      "metadata": {
        "id": "JlDuJUxUrQ0e"
      }
    },
    {
      "cell_type": "code",
      "source": [
        "from sklearn.model_selection import train_test_split\n",
        "from sklearn.neighbors import KNeighborsClassifier\n",
        "\n",
        "n = 3  # edit here to adjust the number of neighbors (k)\n",
        "\n",
        "# Initialize KNN classifier\n",
        "knn_classifier = KNeighborsClassifier(n)\n",
        "\n",
        "# Train the classifier on the reduced-dimensional PCA data\n",
        "knn_classifier.fit(x_train_pca, train_y)\n",
        "\n",
        "# Predict using the trained classifier\n",
        "y_predict_knn = knn_classifier.predict(x_test_pca)\n",
        "\n",
        "# Plot confusion matrix for KNN\n",
        "cm_knn = confusion_matrix(test_y, y_predict_knn)\n",
        "disp_knn = ConfusionMatrixDisplay(confusion_matrix=cm_knn)\n",
        "disp_knn.plot()\n"
      ],
      "metadata": {
        "colab": {
          "base_uri": "https://localhost:8080/",
          "height": 525
        },
        "id": "p6ph3-IWsGsS",
        "outputId": "77bd86c9-5cdf-491e-a4a5-83bef47f8028"
      },
      "execution_count": 16,
      "outputs": [
        {
          "output_type": "stream",
          "name": "stderr",
          "text": [
            "/usr/local/lib/python3.10/dist-packages/sklearn/neighbors/_classification.py:215: DataConversionWarning: A column-vector y was passed when a 1d array was expected. Please change the shape of y to (n_samples,), for example using ravel().\n",
            "  return self._fit(X, y)\n"
          ]
        },
        {
          "output_type": "execute_result",
          "data": {
            "text/plain": [
              "<sklearn.metrics._plot.confusion_matrix.ConfusionMatrixDisplay at 0x7fc4e7dee950>"
            ]
          },
          "metadata": {},
          "execution_count": 16
        },
        {
          "output_type": "display_data",
          "data": {
            "text/plain": [
              "<Figure size 640x480 with 2 Axes>"
            ],
            "image/png": "[encoded data removed]"
          },
          "metadata": {}
        }
      ]
    },
    {
      "cell_type": "code",
      "source": [
        "# Balanced Accuracy\n",
        "accuracy_knn = balanced_accuracy_score(test_y, y_predict_knn)\n",
        "print('Balance Accuracy (KNN):', accuracy_knn)"
      ],
      "metadata": {
        "colab": {
          "base_uri": "https://localhost:8080/"
        },
        "id": "0bHKTi6E1m9j",
        "outputId": "50f69285-713e-4dbf-ef7b-f6cc89685c55"
      },
      "execution_count": 17,
      "outputs": [
        {
          "output_type": "stream",
          "name": "stdout",
          "text": [
            "Balance Accuracy (KNN): 0.9116666666666666\n"
          ]
        }
      ]
    },
    {
      "cell_type": "markdown",
      "source": [
        "#Showing the edge cases"
      ],
      "metadata": {
        "id": "nEa5PCb2vn95"
      }
    },
    {
      "cell_type": "code",
      "source": [
        "# Make predictions on the test data\n",
        "y_predict = classifier.predict(x_test_norm)\n",
        "\n",
        "# Compare predictions with true labels to identify misclassified tweets\n",
        "misclassified_indices = [i for i, (pred, true) in enumerate(zip(y_predict, test_y)) if pred != true]\n",
        "\n",
        "# Retrieve misclassified tweets and their corresponding true labels\n",
        "misclassified_tweets = [test_x[i] for i in misclassified_indices]\n",
        "true_labels = [test_y[i] for i in misclassified_indices]\n",
        "predicted_labels = [y_predict[i] for i in misclassified_indices]\n",
        "\n",
        "# Print or analyze the misclassified tweets along with their true and predicted labels\n",
        "for tweet, true_label, predicted_label in zip(misclassified_tweets, true_labels, predicted_labels):\n",
        "    print(\"Tweet:\", tweet)\n",
        "    print(\"True Label:\", true_label)\n",
        "    print(\"Predicted Label:\", predicted_label)\n",
        "    print()"
      ],
      "metadata": {
        "colab": {
          "base_uri": "https://localhost:8080/"
        },
        "id": "EFmo-8kBasZc",
        "outputId": "fa10ea85-5698-4cc9-c634-9e45d0397c43"
      },
      "execution_count": 21,
      "outputs": [
        {
          "output_type": "stream",
          "name": "stdout",
          "text": [
            "Tweet: Dare I say that there is a video of me on our About Page - http://t.co/1nXM8mxmbu - talking infrared heating :-)\n",
            "True Label: [1.]\n",
            "Predicted Label: 0.0\n",
            "\n",
            "Tweet: Please comment on what you think of what I wrote so far in the twitlonger :)\n",
            "True Label: [1.]\n",
            "Predicted Label: 0.0\n",
            "\n",
            "Tweet: @75Susann \n",
            "how goes it : ) : P\n",
            "True Label: [1.]\n",
            "Predicted Label: 0.0\n",
            "\n",
            "Tweet: I'm playing Brain Dots : ) #BrainDots\n",
            "http://t.co/6TAEpQMBaN http://t.co/Le7bpWbMlO\n",
            "True Label: [1.]\n",
            "Predicted Label: 0.0\n",
            "\n",
            "Tweet: Just watched sinister before I went to bed, wow I'm scared af now :-)\n",
            "True Label: [1.]\n",
            "Predicted Label: 0.0\n",
            "\n",
            "Tweet: I made little @morganflying on Chibi maker :p http://t.co/n0BfUiXLpA\n",
            "True Label: [1.]\n",
            "Predicted Label: 0.0\n",
            "\n",
            "Tweet: @claredolotina I love dogs moar naman haha I had one cat and she didn't love me as much huhu but she was cute :3\n",
            "\n",
            "Tara barkin blends tho :D\n",
            "True Label: [1.]\n",
            "Predicted Label: 0.0\n",
            "\n",
            "Tweet: @F41rygirl @paintingandbook You saying you want Lucy to be gone soon, Lisa!!? Oh that's horrible!\n",
            "Sorry :-)  \n",
            "Yes, be back soon, please!! x\n",
            "True Label: [1.]\n",
            "Predicted Label: 0.0\n",
            "\n",
            "Tweet: @iamsrk Lol. That look's like a scary room! Ghost story or murder mystery? Either way, just try it and get done asap :p\n",
            "True Label: [1.]\n",
            "Predicted Label: 0.0\n",
            "\n",
            "Tweet: Said I was going to sleep a hour ago &amp; im still awake :-)\n",
            "True Label: [1.]\n",
            "Predicted Label: 0.0\n",
            "\n",
            "Tweet: @osehxn94 reserve with the password, okay? : )\n",
            "True Label: [1.]\n",
            "Predicted Label: 0.0\n",
            "\n",
            "Tweet: Lovely chat about cycling in Oxford with a @sustrans campaigner on way home yesterday - more cycle routes please! :) #cycling #Oxford\n",
            "True Label: [1.]\n",
            "Predicted Label: 0.0\n",
            "\n",
            "Tweet: @jaredNOTsubway @iluvmariah @Bravotv Then that truly is a LATERAL move! Now, we all know the Queen Bee is UPWARD BOUND : ) #MovingOnUp\n",
            "True Label: [1.]\n",
            "Predicted Label: 0.0\n",
            "\n",
            "Tweet: I'm playing Brain Dots : ) #BrainDots\n",
            "http://t.co/UGQzOx0huu\n",
            "True Label: [1.]\n",
            "Predicted Label: 0.0\n",
            "\n",
            "Tweet: I'm playing Brain Dots : ) #BrainDots http://t.co/aOKldo3GMj http://t.co/xWCM9qyRG5\n",
            "True Label: [1.]\n",
            "Predicted Label: 0.0\n",
            "\n",
            "Tweet: @llredraven @LinnySmit @erincheshirecat @phycoinsc @paigejiffy @lilginger864 @BlueCat_hikes   Good night! Sweet dreams!  : )  xxoo  ♡♥♡\n",
            "True Label: [1.]\n",
            "Predicted Label: 0.0\n",
            "\n",
            "Tweet: @NiaFHenry Hi! I see u like FourFiveSeconds and think u might like \"Deaf Ears\" https://t.co/FsS7lzF8HQ .Plz let me know what u think :)\n",
            "True Label: [1.]\n",
            "Predicted Label: 0.0\n",
            "\n",
            "Tweet: @SpazzyTsukihara lol ok i can watch ya for a bit :p\n",
            "True Label: [1.]\n",
            "Predicted Label: 0.0\n",
            "\n",
            "Tweet: One more sleep til the wedding :-)\n",
            "True Label: [1.]\n",
            "Predicted Label: 0.0\n",
            "\n",
            "Tweet: I wanna go back to the time were everything is still fine. :-)\n",
            "True Label: [1.]\n",
            "Predicted Label: 0.0\n",
            "\n",
            "Tweet: @ConnellJess you wanna be a loser like me ? :) ♥\n",
            "True Label: [1.]\n",
            "Predicted Label: 0.0\n",
            "\n",
            "Tweet: 0 sleeps! @RachelButterwor is officially on her way to Paris! I cannot wait :) #paris #tdf2015 🇫🇷🍷🍸☀️🇫🇷🚲🇫🇷🍷🍸☀️🚲\n",
            "True Label: [1.]\n",
            "Predicted Label: 0.0\n",
            "\n",
            "Tweet: I'm playing Brain Dots : ) #BrainDots http://t.co/R2JBO8iNww http://t.co/ow5BBwdEMY\n",
            "True Label: [1.]\n",
            "Predicted Label: 0.0\n",
            "\n",
            "Tweet: @lindseyasuer Hi! I see u like FourFiveSeconds and think u might like \"Deaf Ears\" https://t.co/nO9B1b1vtN .Plz let me know what u think :)\n",
            "True Label: [1.]\n",
            "Predicted Label: 0.0\n",
            "\n",
            "Tweet: @Mathpro314 Hey, wanna check out our YTB Channel? We post Gameplays &amp; Tutorials! https://t.co/sc9kDhaviX :) via http://t.co/J3sxzzg7cU\n",
            "True Label: [1.]\n",
            "Predicted Label: 0.0\n",
            "\n",
            "Tweet: HOME ALONE :D\n",
            "True Label: [1.]\n",
            "Predicted Label: 0.0\n",
            "\n",
            "Tweet: @MCunleashed :D I can't sleep until I need to. If I try I just lay in bed bored\n",
            "True Label: [1.]\n",
            "Predicted Label: 0.0\n",
            "\n",
            "Tweet: @msarosh Uff Itna Miss karhy thy ap :p\n",
            "True Label: [1.]\n",
            "Predicted Label: 0.0\n",
            "\n",
            "Tweet: @basementgalaxy Ping! I'm watching your TL like a hawk! :D\n",
            "True Label: [1.]\n",
            "Predicted Label: 0.0\n",
            "\n",
            "Tweet: Well this totally blew my mind this morning : ) https://t.co/jjXcm44YPJ\n",
            "True Label: [1.]\n",
            "Predicted Label: 0.0\n",
            "\n",
            "Tweet: @kevinngmingyuan peasant seats to watch a peasant team...I don't mind :p ahahha\n",
            "True Label: [1.]\n",
            "Predicted Label: 0.0\n",
            "\n",
            "Tweet: @JacinthTran twitter said :((( but u followed me 💕💕💕💕\n",
            "True Label: [0.]\n",
            "Predicted Label: 1.0\n",
            "\n",
            "Tweet: @bumkeyyfel they're not. : ( except for those two who kill people ene\n",
            "True Label: [0.]\n",
            "Predicted Label: 1.0\n",
            "\n",
            "Tweet: Zehr khany ka time is coming soon.....: (\n",
            "True Label: [0.]\n",
            "Predicted Label: 1.0\n",
            "\n",
            "Tweet: #Rohingya #Muslims 72 indicted on human trafficking charges in Thailand - Asia - Around t... http://t.co/VWSLChONfd #SaveTheRohingya :-(\n",
            "True Label: [0.]\n",
            "Predicted Label: 1.0\n",
            "\n",
            "Tweet: When you saw the nicest mehendi design in someone's picture on your dash but now you can't find it to bookmark it &gt;:(\n",
            "True Label: [0.]\n",
            "Predicted Label: 1.0\n",
            "\n",
            "Tweet: Screenshots from http://t.co/U2RdUgq6wH there's a competition open to meet ariana grande some countries excluded :( http://t.co/OdI14ms8NR\n",
            "True Label: [0.]\n",
            "Predicted Label: 1.0\n",
            "\n",
            "Tweet: Yahoo Pipes to end Sept 30, my news feed to end with it. http://t.co/pNq95QKn9G - :-(\n",
            "True Label: [0.]\n",
            "Predicted Label: 1.0\n",
            "\n",
            "Tweet: @bumkeyyfel clowns? i'm not scared of clowns tho i think they're stupid bcs they dont know how to put lipstick on : (\n",
            "True Label: [0.]\n",
            "Predicted Label: 1.0\n",
            "\n",
            "Tweet: “@RobinhoodApp: We love spotting Robinhood out in the wild! Thanks for all the support out there, Robinhoodies! 🚙💚 http://t.co/bK6z2WhXMK”:(\n",
            "True Label: [0.]\n",
            "Predicted Label: 1.0\n",
            "\n",
            "Tweet: Biodiversity, Taxonomic Infrastructure, International Collaboration, and New Species Discovery http://t.co/BWNMCNBvnC Suppl. data as PDF :(\n",
            "True Label: [0.]\n",
            "Predicted Label: 1.0\n",
            "\n",
            "Tweet: @exostrash14 my parents don't let me &gt;:(\n",
            "True Label: [0.]\n",
            "Predicted Label: 1.0\n",
            "\n",
            "Tweet: @xxKalishaxx @Zoe91x @DeltaGoodrem I see she has a meet and greet tour coming up, but unfortunately she's not coming to Brisbane :(\n",
            "True Label: [0.]\n",
            "Predicted Label: 1.0\n",
            "\n",
            "Tweet: Annnd, now not going to Winchester {:-(\n",
            "True Label: [0.]\n",
            "Predicted Label: 1.0\n",
            "\n",
            "Tweet: @GODDAMMlT SRSLY FUCK U UNFOLLOWER HOPE UR FUTURE CHILD UNPARENTS U &gt;:-(\n",
            "True Label: [0.]\n",
            "Predicted Label: 1.0\n",
            "\n",
            "Tweet: @ryannhough I can imagine! This would shatter my dreams :-( We'll let our @CooperativeFood colleagues know all about this. ^SB\n",
            "True Label: [0.]\n",
            "Predicted Label: 1.0\n",
            "\n",
            "Tweet: @rivverofhoney Omg no way?! not you guys aswell :-( btw cat litter isnt good for pregnancy make sure u dont go near\n",
            "True Label: [0.]\n",
            "Predicted Label: 1.0\n",
            "\n",
            "Tweet: There's a huge bag of presents from Luke and I can't open them until he's back from work :-((((\n",
            "True Label: [0.]\n",
            "Predicted Label: 1.0\n",
            "\n",
            "Tweet: @Shansdoe every time i have feta cheese, my head starts to blaaaaze! sometimes my vision is messed too and nausea comes in :(\n",
            "True Label: [0.]\n",
            "Predicted Label: 1.0\n",
            "\n",
            "Tweet: @GarryBrown75 That's awful :( My son missed his physics exam because he had chicken pox and they gave him a predicted grade. Poor girl.\n",
            "True Label: [0.]\n",
            "Predicted Label: 1.0\n",
            "\n",
            "Tweet: @phenomyoutube u probs had more fun with david than me : (\n",
            "True Label: [0.]\n",
            "Predicted Label: 1.0\n",
            "\n",
            "Tweet: Guys nooooo :-( what a WOW!!!!! Wow wow wow\n",
            "True Label: [0.]\n",
            "Predicted Label: 1.0\n",
            "\n",
            "Tweet: pats jay : (\n",
            "True Label: [0.]\n",
            "Predicted Label: 1.0\n",
            "\n",
            "Tweet: HAPPY BIRTHDAY BES! @mahhriel_114 Enjoy your day beb. I love you! Miss you sooooo muchie :( See you soon sana! 💞🎈🎂🎉😘 http://t.co/c5ooBR6OV9\n",
            "True Label: [0.]\n",
            "Predicted Label: 1.0\n",
            "\n",
            "Tweet: “@TheShoeBibles: Its mine.... http://t.co/I9rRNjyvUq” damnnn fineeeeeeeee omaigoshhhhhhh can I have you :((((\n",
            "True Label: [0.]\n",
            "Predicted Label: 1.0\n",
            "\n",
            "Tweet: my beloved grandmother : ( https://t.co/wt4oXq5xCf\n",
            "True Label: [0.]\n",
            "Predicted Label: 1.0\n",
            "\n",
            "Tweet: when you don't have enough time to listen to all your artists' music :-(\n",
            "True Label: [0.]\n",
            "Predicted Label: 1.0\n",
            "\n",
            "Tweet: @CHEDA_KHAN Thats life. I get calls from people I havent seen in 20 years and its always favours : (\n",
            "True Label: [0.]\n",
            "Predicted Label: 1.0\n",
            "\n",
            "Tweet: Sr. Financial Analyst - Expedia, Inc.: (#Bellevue, WA) http://t.co/ktknMhvwCI #Finance #ExpediaJobs #Job #Jobs #Hiring\n",
            "True Label: [0.]\n",
            "Predicted Label: 1.0\n",
            "\n",
            "Tweet: @BacheloretteABC @kaitlynbristowe would love to see her w/Nick but if she picks no one I waisted TV time. &amp; they never work out anyway. :(\n",
            "True Label: [0.]\n",
            "Predicted Label: 1.0\n",
            "\n"
          ]
        }
      ]
    },
    {
      "cell_type": "markdown",
      "source": [],
      "metadata": {
        "id": "9za0hC23yAkQ"
      }
    }
  ]
}